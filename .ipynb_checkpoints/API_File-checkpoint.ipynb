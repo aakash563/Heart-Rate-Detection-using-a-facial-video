{
 "cells": [
  {
   "cell_type": "code",
   "execution_count": 2,
   "id": "b4e0e97d",
   "metadata": {},
   "outputs": [],
   "source": [
    "from flask import Flask,abort,request\n",
    "from flask import Flask, request, jsonify,g\n",
    "import pandas as pd\n",
    "import numpy as np\n",
    "from werkzeug.utils import secure_filename\n",
    "import json\n",
    "import logging\n",
    "import datetime"
   ]
  },
  {
   "cell_type": "code",
   "execution_count": 3,
   "id": "c30710f9",
   "metadata": {},
   "outputs": [],
   "source": [
    "import dlib\n",
    "import os\n",
    "import cv2\n",
    "import pyramids\n",
    "import heartrate\n",
    "import preprocessing\n",
    "import eulerian\n",
    "import error_codes"
   ]
  },
  {
   "cell_type": "code",
   "execution_count": 4,
   "id": "a83d6251",
   "metadata": {},
   "outputs": [
    {
     "name": "stderr",
     "output_type": "stream",
     "text": [
      "The Medtek HR is Started\n"
     ]
    },
    {
     "name": "stdout",
     "output_type": "stream",
     "text": [
      " * Serving Flask app '__main__'\n",
      " * Debug mode: on\n"
     ]
    },
    {
     "name": "stderr",
     "output_type": "stream",
     "text": [
      "WARNING: This is a development server. Do not use it in a production deployment. Use a production WSGI server instead.\n",
      " * Running on all addresses (0.0.0.0)\n",
      " * Running on http://127.0.0.1:5000\n",
      " * Running on http://192.168.51.191:5000\n",
      "Press CTRL+C to quit\n",
      " * Restarting with stat\n"
     ]
    },
    {
     "ename": "SystemExit",
     "evalue": "1",
     "output_type": "error",
     "traceback": [
      "An exception has occurred, use %tb to see the full traceback.\n",
      "\u001b[1;31mSystemExit\u001b[0m\u001b[1;31m:\u001b[0m 1\n"
     ]
    },
    {
     "name": "stderr",
     "output_type": "stream",
     "text": [
      "C:\\Users\\aakas\\.conda\\envs\\em\\lib\\site-packages\\IPython\\core\\interactiveshell.py:3468: UserWarning: To exit: use 'exit', 'quit', or Ctrl-D.\n",
      "  warn(\"To exit: use 'exit', 'quit', or Ctrl-D.\", stacklevel=1)\n"
     ]
    }
   ],
   "source": [
    "log = logging.getLogger(__name__)\n",
    "log.addHandler(logging.StreamHandler())\n",
    "log.setLevel(logging.DEBUG)\n",
    "handler = logging.FileHandler('hr_api.log')\n",
    "handler.setLevel(logging.INFO)\n",
    "formatter = logging.Formatter('%(asctime)s-%(name)s-%(lineno)d-%(levelname)s-%(message)s')\n",
    "handler.setFormatter(formatter)\n",
    "log.addHandler(handler)\n",
    "log.info(\"The Medtek HR is Started\")\n",
    "\n",
    "UPLOAD_FOLDER = 'uploads'\n",
    "ALLOWED_EXTENSIONS = set(['mp4'])\n",
    "app = Flask(__name__)\n",
    "app.config['UPLOAD_FOLDER'] = UPLOAD_FOLDER\n",
    "\n",
    "if not os.path.exists(UPLOAD_FOLDER):\n",
    "    os.makedirs(UPLOAD_FOLDER)\n",
    "    \n",
    "def return_response_new(data, message, error:bool, error_code=None):\n",
    "    if error:\n",
    "        _response_json = {\n",
    "            'data': data,\n",
    "            'message':message,\n",
    "            'status': not error,\n",
    "            'error_code': error_code\n",
    "        }\n",
    "    else:\n",
    "        _response_json = {\n",
    "            'data':data,\n",
    "            'message':message,\n",
    "            'status': not error,\n",
    "            'status_code': error_code\n",
    "        }\n",
    "    log.info(\"Final Response from HR model: {}\".format(_response_json))\n",
    "    return jsonify(_response_json)\n",
    "\n",
    "##################### HR Calculation in which we pass video###############\n",
    "def predictHR(video_path):\n",
    "    try:\n",
    "        # Frequency range for Fast-Fourier Transform\n",
    "        freq_min = 1\n",
    "        freq_max = 1.8\n",
    "\n",
    "        # Preprocessing phase\n",
    "        print(\"Reading + preprocessing video...\")\n",
    "        video_frames, frame_ct, fps = preprocessing.read_video(\"videos/rohin_active.mov\")\n",
    "\n",
    "\n",
    "        # Build Laplacian video pyramid\n",
    "        print(\"Building Laplacian video pyramid...\")\n",
    "        lap_video = pyramids.build_video_pyramid(video_frames)\n",
    "        \n",
    "\n",
    "        amplified_video_pyramid = []\n",
    "\n",
    "        for i, video in enumerate(lap_video):\n",
    "            if i == 0 or i == len(lap_video)-1:\n",
    "                continue\n",
    "\n",
    "            # Eulerian magnification with temporal FFT filtering\n",
    "            print(\"Running FFT and Eulerian magnification...\")\n",
    "            result, fft, frequencies = eulerian.fft_filter(video, freq_min, freq_max, fps)\n",
    "    \n",
    "            lap_video[i] += result\n",
    "\n",
    "            # Calculate heart rate\n",
    "            print(\"Calculating heart rate...\")\n",
    "            heart_rate = heartrate.find_heart_rate(fft, frequencies, freq_min, freq_max)\n",
    "\n",
    "\n",
    "        # Collapse laplacian pyramid to generate final video\n",
    "        print(\"Rebuilding final video...\")\n",
    "        amplified_frames = pyramids.collapse_laplacian_video_pyramid(lap_video, frame_ct)\n",
    "        # amplified_frames = collapse_laplacian_video_pyramid(lap_video, frame_ct)\n",
    "\n",
    "        # Output heart rate and final video\n",
    "        print(\"Heart rate: \", heart_rate, \"bpm\")\n",
    "        log.info(\"HR: {}\".format(heart_rate))\n",
    "        return True, {\"HR\":round(heart_rate)}\n",
    "    except Exception as e:\n",
    "        return False,e\n",
    "    \n",
    "def request_file(request):\n",
    "    handle = request.files.get('video_file')\n",
    "    log.info(handle)\n",
    "    file = request.files['video_file']\n",
    "    filename = secure_filename(file.filename)\n",
    "    file.save(os.path.join(app.config['UPLOAD_FOLDER'],filename))\n",
    "    \n",
    "    return os.path.join(app.config['UPLOAD_FOLDER'],filename)\n",
    "\n",
    "@app.route(\"/v1/predict_hr\",methods = [\"POST\"])\n",
    "def predict_hr():\n",
    "    try:\n",
    "        if 'txt_id' not in request.form:\n",
    "            return return_response_new(data=None,message='Transaction ID not found.',\n",
    "                                      error_code=error_codes.INVALID_SESSION_ID, error=True)\n",
    "        session_id = request.form.get('txt_id').strip().lower()\n",
    "        \n",
    "        if session_id is None:\n",
    "            return return_response_new(data=None, message='Please pass valid session_id',\n",
    "                                      error=True,error_code=error_code.INVALID_SESSION_ID)\n",
    "        log.info(session_id + \"<<<<< Inside Predict HR API POST>>>>>>>>\")\n",
    "        \n",
    "        if request.methods == 'POST':\n",
    "            '''##### Video File Check #######'''\n",
    "            log.info(\"Inside POST\")\n",
    "            \n",
    "            if not request.files:\n",
    "                return return_response_new(data=None, message='Key Live video file not found',\n",
    "                                          error_code=error_codes.LIVE_VIDEO_FILE_NOT_FOUND,error=True)\n",
    "            log.info(request.files)\n",
    "            live_video = request.files.get('video_file')\n",
    "            \n",
    "            log.info(live_video)\n",
    "            if live_video:\n",
    "                live_video_full_path = request_file(request)\n",
    "                log.info(session_id + 'live video save to path - {}'.format(live_video_full_path))\n",
    "                status, output = predictHR(live_video_full_path)\n",
    "                if status:\n",
    "                    return return_response_new(data={\"hr_values\":output},message='Heart Rate values Calculated Sucessfully',\n",
    "                                              error=False, error_code=\"200\")\n",
    "                else:\n",
    "                    log.debug(output)\n",
    "                    return return_response_new(data=None,message=\"Error in calculating HR value\", error=True,\n",
    "                                              error_code=error_codes.UNKNOWN_ERROR_OCCURRED)\n",
    "    except Exception as e:\n",
    "        log.debug(e)\n",
    "        return return_response_new(data=None,message=\"Oops Something Went Wrong\", error=True,\n",
    "                                  error_code=error_code.UNKNOWN_ERROR_OCCURRED)\n",
    "    \n",
    "if __name__ == \"__main__\":\n",
    "    app.run(\"0.0.0.0\", debug=True)"
   ]
  },
  {
   "cell_type": "code",
   "execution_count": null,
   "id": "56b30be8",
   "metadata": {},
   "outputs": [],
   "source": [
    "# if __name__ == \"__main__\":\n",
    "#     app.run(\"0.0.0.0\", debug=True)"
   ]
  },
  {
   "cell_type": "code",
   "execution_count": 9,
   "id": "dae52a66",
   "metadata": {},
   "outputs": [
    {
     "name": "stdout",
     "output_type": "stream",
     "text": [
      "Reading + preprocessing video...\n"
     ]
    },
    {
     "data": {
      "text/plain": [
       "(False,\n",
       " numpy.core._exceptions._ArrayMemoryError((500, 500, 3), dtype('float64')))"
      ]
     },
     "execution_count": 9,
     "metadata": {},
     "output_type": "execute_result"
    }
   ],
   "source": [
    "predictHR(\"aakash.mp4\")"
   ]
  },
  {
   "cell_type": "code",
   "execution_count": null,
   "id": "99751c75",
   "metadata": {},
   "outputs": [],
   "source": []
  }
 ],
 "metadata": {
  "kernelspec": {
   "display_name": "Python 3 (ipykernel)",
   "language": "python",
   "name": "python3"
  },
  "language_info": {
   "codemirror_mode": {
    "name": "ipython",
    "version": 3
   },
   "file_extension": ".py",
   "mimetype": "text/x-python",
   "name": "python",
   "nbconvert_exporter": "python",
   "pygments_lexer": "ipython3",
   "version": "3.8.0"
  }
 },
 "nbformat": 4,
 "nbformat_minor": 5
}
